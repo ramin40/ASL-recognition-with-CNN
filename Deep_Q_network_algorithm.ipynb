{
  "nbformat": 4,
  "nbformat_minor": 0,
  "metadata": {
    "colab": {
      "name": "Deep_Q_network_algorithm.ipynb",
      "provenance": [],
      "include_colab_link": true
    },
    "kernelspec": {
      "name": "python3",
      "display_name": "Python 3"
    },
    "language_info": {
      "name": "python"
    }
  },
  "cells": [
    {
      "cell_type": "markdown",
      "metadata": {
        "id": "view-in-github",
        "colab_type": "text"
      },
      "source": [
        "<a href=\"https://colab.research.google.com/github/ramin40/ASL-recognition-with-CNN/blob/main/Deep_Q_network_algorithm.ipynb\" target=\"_parent\"><img src=\"https://colab.research.google.com/assets/colab-badge.svg\" alt=\"Open In Colab\"/></a>"
      ]
    },
    {
      "cell_type": "markdown",
      "metadata": {
        "id": "IjbxJ_CD4ByN"
      },
      "source": [
        "# importing necessary libraries"
      ]
    },
    {
      "cell_type": "markdown",
      "metadata": {
        "id": "6pIJKAAK4onD"
      },
      "source": [
        "* clone github repository"
      ]
    },
    {
      "cell_type": "code",
      "metadata": {
        "id": "J_nXRtoL35Ja"
      },
      "source": [
        "! git clone https://github.com/openai/baselines.git\n",
        "%cd baselines\n",
        "! git pull original master\n",
        "! pip install requirements.text\n",
        "! python setup.py install "
      ],
      "execution_count": null,
      "outputs": []
    },
    {
      "cell_type": "markdown",
      "metadata": {
        "id": "yVrTOpoH4lCy"
      },
      "source": [
        "* importing roms"
      ]
    },
    {
      "cell_type": "code",
      "metadata": {
        "id": "UjvwUgYj4hj3"
      },
      "source": [
        "import urllib.request\n",
        "urllib.request.urlretrieve('http://www.atarimania.com/roms/Roms.rar','Roms.rar')\n",
        "!pip install unrar\n",
        "!unrar x Roms.rar\n",
        "!mkdir rars\n",
        "!mv HC\\ ROMS.zip   rars\n",
        "!mv ROMS.zip  rars\n",
        "!python -m atari_py.import_roms rars"
      ],
      "execution_count": null,
      "outputs": []
    },
    {
      "cell_type": "code",
      "metadata": {
        "id": "d0yU4nLi4wt8"
      },
      "source": [
        "from baselines.common.atari_wrappers import make_atari,wrap_deepmind\n",
        "import tensorflow as tf\n",
        "import numpy as np\n",
        "from tqdm import tqdm\n",
        "import keras\n",
        "from keras import layers\n",
        "import matplotlib.pyplot as plt\n",
        "import time \n",
        "import pprint\n",
        "from collections import deque"
      ],
      "execution_count": 3,
      "outputs": []
    },
    {
      "cell_type": "markdown",
      "metadata": {
        "id": "PoQUC_lO5PO4"
      },
      "source": [
        "# defining constants"
      ]
    },
    {
      "cell_type": "code",
      "metadata": {
        "colab": {
          "base_uri": "https://localhost:8080/"
        },
        "id": "BRq3evye5Oah",
        "outputId": "16801520-50ff-4316-ed83-f76f42dc4e5c"
      },
      "source": [
        "seed=123\n",
        "max_step_per_episode=10000\n",
        "max_reply_memory=100000\n",
        "min_eps=0.1\n",
        "max_eps=1.0\n",
        "interval_eps=min_eps-max_eps\n",
        "gamma=0.99\n",
        "epsilon=1.0\n",
        "batch_size=64\n",
        "env = make_atari(\"BreakoutNoFrameskip-v4\")\n",
        "env = wrap_deepmind(env, frame_stack=True, scale=True)\n",
        "env.seed(seed)"
      ],
      "execution_count": 4,
      "outputs": [
        {
          "output_type": "execute_result",
          "data": {
            "text/plain": [
              "[123, 151010689]"
            ]
          },
          "metadata": {},
          "execution_count": 4
        }
      ]
    },
    {
      "cell_type": "markdown",
      "metadata": {
        "id": "zKMHRIaW5zFv"
      },
      "source": [
        "* inspecting environment"
      ]
    },
    {
      "cell_type": "code",
      "metadata": {
        "colab": {
          "base_uri": "https://localhost:8080/",
          "height": 368
        },
        "id": "VhTdWYBj5v3o",
        "outputId": "10910773-623c-49a0-a505-ecf4303b881c"
      },
      "source": [
        "env.reset()\n",
        "state,reward,done,inf=env.step(1)\n",
        "state_shape=np.array(state).shape\n",
        "print(f'state shape{state_shape}, reward: {reward}')\n",
        "state,reward,done,inf=env.step(1)\n",
        "plt.imshow(np.array(state)[:,:,:3],cmap='gray')\n",
        "plt.title('one state of enviornment')\n",
        "plt.axis('off')\n",
        "plt.show()\n",
        "print('\\n\\n\\n')\n",
        "pprint.pprint(f'in state matrix max value is {np.max(state)} and min value is {np.min(state)}',)"
      ],
      "execution_count": 5,
      "outputs": [
        {
          "output_type": "stream",
          "name": "stdout",
          "text": [
            "state shape(84, 84, 4), reward: 0.0\n"
          ]
        },
        {
          "output_type": "display_data",
          "data": {
            "image/png": "[encoded data removed]",
            "text/plain": [
              "<Figure size 432x288 with 1 Axes>"
            ]
          },
          "metadata": {
            "needs_background": "light"
          }
        },
        {
          "output_type": "stream",
          "name": "stdout",
          "text": [
            "\n",
            "\n",
            "\n",
            "\n",
            "'in state matrix max value is 0.5803921818733215 and min value is 0.0'\n"
          ]
        }
      ]
    },
    {
      "cell_type": "markdown",
      "metadata": {
        "id": "TAZxjkCC7uo2"
      },
      "source": [
        "# creating deep Q network\n",
        "* this sections we will create Q and target(Q*) networks "
      ]
    },
    {
      "cell_type": "code",
      "metadata": {
        "id": "J8Qo8NYn564z",
        "colab": {
          "base_uri": "https://localhost:8080/"
        },
        "outputId": "59f752f8-a746-4284-b276-5a1f6c236789"
      },
      "source": [
        "num_actions=env.action_space.n\n",
        "\n",
        "def create_q_model():\n",
        "\n",
        "    inputs = layers.Input(shape=(84, 84, 4,))\n",
        "    layer1 = layers.Conv2D(32, 8, strides=4, activation=\"relu\")(inputs)\n",
        "    layer2 = layers.Conv2D(64, 4, strides=2, activation=\"relu\")(layer1)\n",
        "    layer3 = layers.Conv2D(64, 3, strides=1, activation=\"relu\")(layer2)\n",
        "\n",
        "    layer4 = layers.Flatten()(layer3)\n",
        "\n",
        "    layer5 = layers.Dense(512, activation=\"relu\")(layer4)\n",
        "    action = layers.Dense(num_actions, activation=\"linear\")(layer5)\n",
        "\n",
        "    return keras.Model(inputs=inputs, outputs=action)\n",
        "Q_network=create_q_model()\n",
        "Qstar_network=create_q_model()\n",
        "Q_network.summary()"
      ],
      "execution_count": 6,
      "outputs": [
        {
          "output_type": "stream",
          "name": "stdout",
          "text": [
            "Model: \"model\"\n",
            "_________________________________________________________________\n",
            "Layer (type)                 Output Shape              Param #   \n",
            "=================================================================\n",
            "input_1 (InputLayer)         [(None, 84, 84, 4)]       0         \n",
            "_________________________________________________________________\n",
            "conv2d (Conv2D)              (None, 20, 20, 32)        8224      \n",
            "_________________________________________________________________\n",
            "conv2d_1 (Conv2D)            (None, 9, 9, 64)          32832     \n",
            "_________________________________________________________________\n",
            "conv2d_2 (Conv2D)            (None, 7, 7, 64)          36928     \n",
            "_________________________________________________________________\n",
            "flatten (Flatten)            (None, 3136)              0         \n",
            "_________________________________________________________________\n",
            "dense (Dense)                (None, 512)               1606144   \n",
            "_________________________________________________________________\n",
            "dense_1 (Dense)              (None, 4)                 2052      \n",
            "=================================================================\n",
            "Total params: 1,686,180\n",
            "Trainable params: 1,686,180\n",
            "Non-trainable params: 0\n",
            "_________________________________________________________________\n"
          ]
        }
      ]
    },
    {
      "cell_type": "markdown",
      "metadata": {
        "id": "WK6xgfl68ts0"
      },
      "source": [
        "# training agent"
      ]
    },
    {
      "cell_type": "code",
      "metadata": {
        "id": "e-CrgjkupeZN"
      },
      "source": [
        "def get_apply_grad_fn():\n",
        "    @tf.function\n",
        "    def apply_grad(network,optimizer,loss_fn,mask,data,target):\n",
        "        with tf.GradientTape() as tape:\n",
        "          perdiction=network(data)\n",
        "          # applying mask\n",
        "          selected_actions_for_correction=tf.reduce_sum(\n",
        "          tf.multiply(perdiction,mask),axis=1)\n",
        "          # calculating loss\n",
        "          loss=loss_fn(target,selected_actions_for_correction)\n",
        "        \n",
        "        grades=tape.gradient(loss,network.trainable_variables)\n",
        "        optimizer.apply_gradients(zip(grades,network.trainable_variables))\n",
        "\n",
        "        return loss\n",
        "    return apply_grad\n",
        "train_step=get_apply_grad_fn()\n"
      ],
      "execution_count": 10,
      "outputs": []
    },
    {
      "cell_type": "code",
      "metadata": {
        "id": "b2ATicHy8rl6"
      },
      "source": [
        "optimizer=tf.keras.optimizers.Adam(learning_rate=0.0025, clipnorm=1.0)\n",
        "loss_fn=keras.losses.Huber()\n",
        "empty_array=np.zeros(max_reply_memory)\n",
        "running_reward=0\n",
        "episode_counter=0\n",
        "frame_counter=0\n",
        "\n",
        "# replay memory\n",
        "memory_of_actions=[]\n",
        "memory_of_rewards=[]\n",
        "memory_of_states=[]\n",
        "memory_of_next_state=[]\n",
        "memory_of_done=[]\n",
        "episode_reward_history=[]\n",
        "running_reward_history=deque(np.zeros(1000),maxlen=1000)\n",
        "# defining exploration parameters \n",
        "epsilon_correction_rate=1000000.0\n",
        "inital_exploration=50000\n",
        "# training_period\n",
        "training_period=4\n",
        "# updating target networke\n",
        "updating_period=1000\n",
        "\n",
        "#training loop\n",
        "while True:\n",
        "\n",
        "  state=env.reset()\n",
        "  state=np.array(state)\n",
        "  episode_reward=0\n",
        "  for episode in range(1,max_step_per_episode):\n",
        "    frame_counter+=1\n",
        "\n",
        "    # geedy epsilon policy\n",
        "    if frame_counter<inital_exploration or epsilon>np.random.rand(1)[0]:\n",
        "      action=np.random.choice(num_actions)\n",
        "    else:\n",
        "      state_tensor=tf.convert_to_tensor(state)\n",
        "      state_tensor=tf.expand_dims(state_tensor,0)\n",
        "      action_probs=Q_network(state_tensor,training=True)\n",
        "      action=np.argmax(action_probs[0]).numpy()\n",
        "\n",
        "    # epsilon correction for naxt time step exploration\n",
        "    epsilon-=interval_eps/epsilon_correction_rate\n",
        "    epsilon=max(epsilon,min_eps)\n",
        "\n",
        "    # take step in environment\n",
        "    next_state,reward,done,_=env.step(action)\n",
        "    next_state=np.array(next_state)\n",
        "    episode_reward+=reward\n",
        "    state=next_state\n",
        "    # creating replay buffer\n",
        "    memory_of_actions.append(action)\n",
        "    memory_of_done.append(done)\n",
        "    memory_of_next_state.append(next_state)\n",
        "    memory_of_rewards.append(reward)\n",
        "    memory_of_states.append(state)\n",
        "\n",
        "    # training target network\n",
        "    if frame_counter % updating_period==0 and len(memory_of_rewards)>batch_size:\n",
        "      # selecting random experiences for removing data dependencie\n",
        "      indices=np.random.choice(range(len(memory_of_states)),batch_size)\n",
        "\n",
        "      sampled_states=np.array([memory_of_states[i] for i in indices ])\n",
        "      sampled_next_states=np.array([memory_of_next_state[i] for i in indices])\n",
        "      sampled_rewards=[memory_of_rewards[i] for i in indices]\n",
        "      sampled_actions=[memory_of_actions[i] for i in indices]\n",
        "      # tip: float(True)=1.0 and float(False)=0.0\n",
        "      sampled_dons=tf.convert_to_tensor([float(memory_of_done[i]) for i in indices])\n",
        "\n",
        "      # calculating Q^*(next_state): output of target network\n",
        "      q_star_next_state=Qstar_network.predict(sampled_next_states)\n",
        "\n",
        "      # calculating Q^*(state): Q(s)=reward(s) + discounte factor*max(Q(s+1))\n",
        "      q_star_state=sampled_rewards+ gamma*tf.reduce_max(q_star_next_state,\n",
        "                                                        axis=1)\n",
        "      # setting value of last state to -1\n",
        "      q_star_state=q_star_state * (1 - sampled_dons) - sampled_dons\n",
        "\n",
        "      # creating mask for updating just selected actions(updating weights of \n",
        "      # neurun with highest Q value )\n",
        "      mask=tf.one_hot(sampled_actions,num_actions)\n",
        "\n",
        "      # training Q_network\n",
        "      train_step(Q_network,optimizer,loss_fn,mask,sampled_states,q_star_state) \n",
        "      \n",
        "    #updating target network\n",
        "    if frame_counter % updating_period==0:\n",
        "      Qstar_network.set_weights(Q_network.get_weights())\n",
        "      if frame_counter%10000==0:\n",
        "        print(f'in episode {episode_counter} agent has seen {frame_counter} frames and running reward is:{running_reward}')\n",
        "   \n",
        "    # reducing memory size\n",
        "    if len(memory_of_rewards) > max_reply_memory:\n",
        "      \n",
        "      del memory_of_rewards[:1]\n",
        "      del memory_of_states[:1]\n",
        "      del memory_of_next_state[:1]\n",
        "      del memory_of_actions[:1]\n",
        "      del memory_of_done[:1]\n",
        "\n",
        "    if done :\n",
        "      break\n",
        "  episode_counter+=1\n",
        "  episode_reward_history.append(episode_reward)\n",
        "  if len(episode_reward_history) > 100:\n",
        "\n",
        "    del episode_reward_history[:1]\n",
        "\n",
        "  running_reward=np.mean(episode_reward_history)\n",
        "  running_reward_history.append(running_reward)\n",
        "\n",
        "  if running_reward > 40:  # Condition to consider the task solved\n",
        "      print(\"Solved at episode {}!\".format(episode_counter))\n",
        "      break\n"
      ],
      "execution_count": null,
      "outputs": []
    },
    {
      "cell_type": "code",
      "metadata": {
        "colab": {
          "base_uri": "https://localhost:8080/",
          "height": 295
        },
        "id": "aTVOCEqIw9EG",
        "outputId": "5b585dfa-6681-4b29-cab2-2a8afeb71f52"
      },
      "source": [
        "plt.plot(range(len(running_reward_history)),running_reward_history)\n",
        "plt.title('learning curve')\n",
        "plt.xlabel('episode')\n",
        "plt.ylabel('running reward')\n",
        "plt.show()"
      ],
      "execution_count": 14,
      "outputs": [
        {
          "output_type": "display_data",
          "data": {
            "image/png": "[encoded data removed]",
            "text/plain": [
              "<Figure size 432x288 with 1 Axes>"
            ]
          },
          "metadata": {
            "needs_background": "light"
          }
        }
      ]
    },
    {
      "cell_type": "markdown",
      "metadata": {
        "id": "Tjwh3AIHI3EL"
      },
      "source": [
        "## Visualizations\n",
        "Before any training:\n",
        "![Imgur](https://i.imgur.com/rRxXF4H.gif)\n",
        "\n",
        "In early stages of training:\n",
        "![Imgur](https://i.imgur.com/X8ghdpL.gif)\n",
        "\n",
        "In later stages of training:\n",
        "![Imgur](https://i.imgur.com/Z1K6qBQ.gif)"
      ]
    },
    {
      "cell_type": "code",
      "metadata": {
        "id": "oirFMYdC0IPV"
      },
      "source": [
        ""
      ],
      "execution_count": null,
      "outputs": []
    }
  ]
}